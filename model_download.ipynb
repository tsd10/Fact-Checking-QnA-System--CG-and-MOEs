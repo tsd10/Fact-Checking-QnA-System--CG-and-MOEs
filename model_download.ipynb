{
 "cells": [
  {
   "cell_type": "markdown",
   "id": "3eae9b3b",
   "metadata": {},
   "source": [
    "Qwen 7B Model Base Download"
   ]
  },
  {
   "cell_type": "code",
   "execution_count": null,
   "id": "e64bb696",
   "metadata": {},
   "outputs": [],
   "source": [
    "from huggingface_hub import snapshot_download\n",
    "import os\n",
    "\n",
    "target_dir = \"/home/tushard/ondemand/NLP Final Project/qwen2.5-7B\"\n",
    "\n",
    "print(f\"📦 Downloading Qwen2.5-7B to {target_dir}\")\n",
    "os.makedirs(target_dir, exist_ok=True)\n",
    "\n",
    "snapshot_download(\n",
    "    repo_id=\"Qwen/Qwen2.5-7B\",\n",
    "    local_dir=target_dir,\n",
    "    local_dir_use_symlinks=False,\n",
    "    resume_download=True,\n",
    "    allow_patterns=[\"*\"]  # ensure full download\n",
    ")\n",
    "\n",
    "print(\"✅ Download complete!\")\n"
   ]
  },
  {
   "cell_type": "markdown",
   "id": "42fb9bfe",
   "metadata": {},
   "source": [
    "QWEN 3B Base Model Download"
   ]
  },
  {
   "cell_type": "code",
   "execution_count": 2,
   "id": "f18fce0e",
   "metadata": {},
   "outputs": [
    {
     "name": "stdout",
     "output_type": "stream",
     "text": [
      "📦 Downloading Qwen2.5-3B to /home/tushard/ondemand/NLP Assignment/qwen2.5-3B\n"
     ]
    },
    {
     "data": {
      "application/vnd.jupyter.widget-view+json": {
       "model_id": "2828b64d02a248afa6b13f14fb78a148",
       "version_major": 2,
       "version_minor": 0
      },
      "text/plain": [
       "Fetching 12 files:   0%|          | 0/12 [00:00<?, ?it/s]"
      ]
     },
     "metadata": {},
     "output_type": "display_data"
    },
    {
     "data": {
      "application/vnd.jupyter.widget-view+json": {
       "model_id": "76a925a269d54ff4ae220e1b7e5290ab",
       "version_major": 2,
       "version_minor": 0
      },
      "text/plain": [
       "README.md:   0%|          | 0.00/3.84k [00:00<?, ?B/s]"
      ]
     },
     "metadata": {},
     "output_type": "display_data"
    },
    {
     "data": {
      "application/vnd.jupyter.widget-view+json": {
       "model_id": "ddce9449ad08496594253efc80d80dc4",
       "version_major": 2,
       "version_minor": 0
      },
      "text/plain": [
       "LICENSE:   0%|          | 0.00/7.39k [00:00<?, ?B/s]"
      ]
     },
     "metadata": {},
     "output_type": "display_data"
    },
    {
     "data": {
      "application/vnd.jupyter.widget-view+json": {
       "model_id": "ce747656524345e4afc1d2d7dc137201",
       "version_major": 2,
       "version_minor": 0
      },
      "text/plain": [
       ".gitattributes:   0%|          | 0.00/1.52k [00:00<?, ?B/s]"
      ]
     },
     "metadata": {},
     "output_type": "display_data"
    },
    {
     "name": "stdout",
     "output_type": "stream",
     "text": [
      "✅ Download complete!\n"
     ]
    }
   ],
   "source": [
    "from huggingface_hub import snapshot_download\n",
    "import os\n",
    "\n",
    "# Set your target directory\n",
    "target_dir = \"/home/tushard/ondemand/NLP Assignment/qwen2.5-3B\"\n",
    "\n",
    "print(f\"📦 Downloading Qwen2.5-3B to {target_dir}\")\n",
    "os.makedirs(target_dir, exist_ok=True)\n",
    "\n",
    "# Download full model snapshot\n",
    "snapshot_download(\n",
    "    repo_id=\"Qwen/Qwen2.5-3B\",\n",
    "    local_dir=target_dir,\n",
    "    local_dir_use_symlinks=False,\n",
    "    resume_download=False,  # Fresh download\n",
    "    allow_patterns=[\"*\"]\n",
    ")\n",
    "\n",
    "print(\"✅ Download complete!\")\n"
   ]
  }
 ],
 "metadata": {
  "kernelspec": {
   "display_name": "NLPproj",
   "language": "python",
   "name": "python3"
  },
  "language_info": {
   "codemirror_mode": {
    "name": "ipython",
    "version": 3
   },
   "file_extension": ".py",
   "mimetype": "text/x-python",
   "name": "python",
   "nbconvert_exporter": "python",
   "pygments_lexer": "ipython3",
   "version": "3.8.0"
  }
 },
 "nbformat": 4,
 "nbformat_minor": 5
}
